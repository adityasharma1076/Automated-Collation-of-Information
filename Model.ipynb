{
 "cells": [
  {
   "cell_type": "code",
   "execution_count": 1,
   "metadata": {},
   "outputs": [],
   "source": [
    "import bs4\n",
    "import requests\n",
    "import pandas as pd\n",
    "import numpy as np\n",
    "import time"
   ]
  },
  {
   "cell_type": "code",
   "execution_count": 2,
   "metadata": {},
   "outputs": [],
   "source": [
    "mit = pd.read_csv('MIT_Text')\n",
    "sd = pd.read_csv('SD_Text')\n",
    "ec = pd.read_csv('IEEE_Text')\n",
    "acm = pd.read_csv('ACM_Text')\n",
    "stn = pd.read_csv('STN_Text')"
   ]
  },
  {
   "cell_type": "code",
   "execution_count": 3,
   "metadata": {},
   "outputs": [],
   "source": [
    "mit.drop_duplicates(subset='Heading',keep='last',inplace=True)\n",
    "sd.drop_duplicates(subset='Heading',keep='last',inplace=True)\n",
    "ec.drop_duplicates(subset='Heading',keep='last',inplace=True)\n",
    "acm.drop_duplicates(subset='Heading',keep='last',inplace=True)\n",
    "stn.drop_duplicates(subset='Heading',keep='last',inplace=True)\n",
    "\n",
    "sd.dropna(inplace=True)\n",
    "ec.dropna(inplace=True)\n",
    "acm.dropna(inplace=True)\n",
    "mit.dropna(inplace=True)\n",
    "stn.dropna(inplace=True)"
   ]
  },
  {
   "cell_type": "code",
   "execution_count": 4,
   "metadata": {},
   "outputs": [],
   "source": [
    "df = pd.concat([mit,sd,ec,stn,acm])"
   ]
  },
  {
   "cell_type": "code",
   "execution_count": 5,
   "metadata": {},
   "outputs": [
    {
     "data": {
      "text/html": [
       "<div>\n",
       "<style scoped>\n",
       "    .dataframe tbody tr th:only-of-type {\n",
       "        vertical-align: middle;\n",
       "    }\n",
       "\n",
       "    .dataframe tbody tr th {\n",
       "        vertical-align: top;\n",
       "    }\n",
       "\n",
       "    .dataframe thead th {\n",
       "        text-align: right;\n",
       "    }\n",
       "</style>\n",
       "<table border=\"1\" class=\"dataframe\">\n",
       "  <thead>\n",
       "    <tr style=\"text-align: right;\">\n",
       "      <th></th>\n",
       "      <th>Category</th>\n",
       "      <th>Date</th>\n",
       "      <th>Heading</th>\n",
       "      <th>Source</th>\n",
       "      <th>Text</th>\n",
       "      <th>Time</th>\n",
       "      <th>URL</th>\n",
       "      <th>Unnamed: 0</th>\n",
       "    </tr>\n",
       "  </thead>\n",
       "  <tbody>\n",
       "    <tr>\n",
       "      <th>0</th>\n",
       "      <td>Computer Science</td>\n",
       "      <td>2019-09-09</td>\n",
       "      <td>MIT named No. 3 university by U.S. News for 2020</td>\n",
       "      <td>MIT News</td>\n",
       "      <td>For a second year in a row, U.S. News and Wo...</td>\n",
       "      <td>-</td>\n",
       "      <td>http://news.mit.edu/2019/mit-named-no-3-univer...</td>\n",
       "      <td>0</td>\n",
       "    </tr>\n",
       "    <tr>\n",
       "      <th>1</th>\n",
       "      <td>Computer Science</td>\n",
       "      <td>2019-09-06</td>\n",
       "      <td>Breakthrough Prize in Fundamental Physics awar...</td>\n",
       "      <td>MIT News</td>\n",
       "      <td>The Event Horizon Telescope (EHT) Collaborat...</td>\n",
       "      <td>-</td>\n",
       "      <td>http://news.mit.edu/2019/breakthrough-prize-ph...</td>\n",
       "      <td>1</td>\n",
       "    </tr>\n",
       "    <tr>\n",
       "      <th>2</th>\n",
       "      <td>Research</td>\n",
       "      <td>2019-09-06</td>\n",
       "      <td>How to make a book last for millennia</td>\n",
       "      <td>MIT News</td>\n",
       "      <td>First discovered in 1947 by Bedouin shepherd...</td>\n",
       "      <td>-</td>\n",
       "      <td>http://news.mit.edu/2019/temple-scroll-ancient...</td>\n",
       "      <td>2</td>\n",
       "    </tr>\n",
       "    <tr>\n",
       "      <th>3</th>\n",
       "      <td>Nasa</td>\n",
       "      <td>2019-09-05</td>\n",
       "      <td>Taking the next giant leaps</td>\n",
       "      <td>MIT News</td>\n",
       "      <td>In July, the world celebrated the 50th anniv...</td>\n",
       "      <td>-</td>\n",
       "      <td>http://news.mit.edu/2019/taking-next-giant-lea...</td>\n",
       "      <td>3</td>\n",
       "    </tr>\n",
       "    <tr>\n",
       "      <th>4</th>\n",
       "      <td>Computer Science</td>\n",
       "      <td>2019-09-05</td>\n",
       "      <td>Cleaning up hydrogen peroxide production</td>\n",
       "      <td>MIT News</td>\n",
       "      <td>The most common process for making hydrogen ...</td>\n",
       "      <td>-</td>\n",
       "      <td>http://news.mit.edu/2019/solugen-hydrogen-pero...</td>\n",
       "      <td>4</td>\n",
       "    </tr>\n",
       "  </tbody>\n",
       "</table>\n",
       "</div>"
      ],
      "text/plain": [
       "           Category        Date  \\\n",
       "0  Computer Science  2019-09-09   \n",
       "1  Computer Science  2019-09-06   \n",
       "2          Research  2019-09-06   \n",
       "3              Nasa  2019-09-05   \n",
       "4  Computer Science  2019-09-05   \n",
       "\n",
       "                                             Heading    Source  \\\n",
       "0   MIT named No. 3 university by U.S. News for 2020  MIT News   \n",
       "1  Breakthrough Prize in Fundamental Physics awar...  MIT News   \n",
       "2             How to make a book last for millennia   MIT News   \n",
       "3                        Taking the next giant leaps  MIT News   \n",
       "4           Cleaning up hydrogen peroxide production  MIT News   \n",
       "\n",
       "                                                Text Time  \\\n",
       "0    For a second year in a row, U.S. News and Wo...    -   \n",
       "1    The Event Horizon Telescope (EHT) Collaborat...    -   \n",
       "2    First discovered in 1947 by Bedouin shepherd...    -   \n",
       "3    In July, the world celebrated the 50th anniv...    -   \n",
       "4    The most common process for making hydrogen ...    -   \n",
       "\n",
       "                                                 URL  Unnamed: 0  \n",
       "0  http://news.mit.edu/2019/mit-named-no-3-univer...           0  \n",
       "1  http://news.mit.edu/2019/breakthrough-prize-ph...           1  \n",
       "2  http://news.mit.edu/2019/temple-scroll-ancient...           2  \n",
       "3  http://news.mit.edu/2019/taking-next-giant-lea...           3  \n",
       "4  http://news.mit.edu/2019/solugen-hydrogen-pero...           4  "
      ]
     },
     "execution_count": 5,
     "metadata": {},
     "output_type": "execute_result"
    }
   ],
   "source": [
    "df.head()"
   ]
  },
  {
   "cell_type": "code",
   "execution_count": 6,
   "metadata": {},
   "outputs": [],
   "source": [
    "def get_len(x):\n",
    "    length = len(x)\n",
    "    \n",
    "    return length\n",
    "\n",
    "def fix_g(x):\n",
    "    if 'Q&A' in x:\n",
    "        return 'nil'\n",
    "    elif '3 Questions:' in x:\n",
    "        return 'nil'\n",
    "    else:\n",
    "        return x\n"
   ]
  },
  {
   "cell_type": "code",
   "execution_count": 7,
   "metadata": {},
   "outputs": [],
   "source": [
    "df['Length'] = df['Text'].apply(get_len)\n",
    "df['Heading'] = df['Heading'].apply(fix_g)\n",
    "df = df[df['Heading']!='nil']\n",
    "df = df[df['Text']!='']"
   ]
  },
  {
   "cell_type": "code",
   "execution_count": 8,
   "metadata": {},
   "outputs": [
    {
     "data": {
      "text/html": [
       "<div>\n",
       "<style scoped>\n",
       "    .dataframe tbody tr th:only-of-type {\n",
       "        vertical-align: middle;\n",
       "    }\n",
       "\n",
       "    .dataframe tbody tr th {\n",
       "        vertical-align: top;\n",
       "    }\n",
       "\n",
       "    .dataframe thead th {\n",
       "        text-align: right;\n",
       "    }\n",
       "</style>\n",
       "<table border=\"1\" class=\"dataframe\">\n",
       "  <thead>\n",
       "    <tr style=\"text-align: right;\">\n",
       "      <th></th>\n",
       "      <th>Category</th>\n",
       "      <th>Date</th>\n",
       "      <th>Heading</th>\n",
       "      <th>Source</th>\n",
       "      <th>Text</th>\n",
       "      <th>Time</th>\n",
       "      <th>URL</th>\n",
       "      <th>Length</th>\n",
       "    </tr>\n",
       "  </thead>\n",
       "  <tbody>\n",
       "    <tr>\n",
       "      <th>0</th>\n",
       "      <td>Computer Science</td>\n",
       "      <td>2019-09-09</td>\n",
       "      <td>MIT named No. 3 university by U.S. News for 2020</td>\n",
       "      <td>MIT News</td>\n",
       "      <td>For a second year in a row, U.S. News and Wo...</td>\n",
       "      <td>-</td>\n",
       "      <td>http://news.mit.edu/2019/mit-named-no-3-univer...</td>\n",
       "      <td>2116</td>\n",
       "    </tr>\n",
       "    <tr>\n",
       "      <th>1</th>\n",
       "      <td>Computer Science</td>\n",
       "      <td>2019-09-06</td>\n",
       "      <td>Breakthrough Prize in Fundamental Physics awar...</td>\n",
       "      <td>MIT News</td>\n",
       "      <td>The Event Horizon Telescope (EHT) Collaborat...</td>\n",
       "      <td>-</td>\n",
       "      <td>http://news.mit.edu/2019/breakthrough-prize-ph...</td>\n",
       "      <td>5089</td>\n",
       "    </tr>\n",
       "    <tr>\n",
       "      <th>2</th>\n",
       "      <td>Research</td>\n",
       "      <td>2019-09-06</td>\n",
       "      <td>How to make a book last for millennia</td>\n",
       "      <td>MIT News</td>\n",
       "      <td>First discovered in 1947 by Bedouin shepherd...</td>\n",
       "      <td>-</td>\n",
       "      <td>http://news.mit.edu/2019/temple-scroll-ancient...</td>\n",
       "      <td>7820</td>\n",
       "    </tr>\n",
       "    <tr>\n",
       "      <th>3</th>\n",
       "      <td>Nasa</td>\n",
       "      <td>2019-09-05</td>\n",
       "      <td>Taking the next giant leaps</td>\n",
       "      <td>MIT News</td>\n",
       "      <td>In July, the world celebrated the 50th anniv...</td>\n",
       "      <td>-</td>\n",
       "      <td>http://news.mit.edu/2019/taking-next-giant-lea...</td>\n",
       "      <td>7848</td>\n",
       "    </tr>\n",
       "    <tr>\n",
       "      <th>4</th>\n",
       "      <td>Computer Science</td>\n",
       "      <td>2019-09-05</td>\n",
       "      <td>Cleaning up hydrogen peroxide production</td>\n",
       "      <td>MIT News</td>\n",
       "      <td>The most common process for making hydrogen ...</td>\n",
       "      <td>-</td>\n",
       "      <td>http://news.mit.edu/2019/solugen-hydrogen-pero...</td>\n",
       "      <td>7370</td>\n",
       "    </tr>\n",
       "  </tbody>\n",
       "</table>\n",
       "</div>"
      ],
      "text/plain": [
       "           Category        Date  \\\n",
       "0  Computer Science  2019-09-09   \n",
       "1  Computer Science  2019-09-06   \n",
       "2          Research  2019-09-06   \n",
       "3              Nasa  2019-09-05   \n",
       "4  Computer Science  2019-09-05   \n",
       "\n",
       "                                             Heading    Source  \\\n",
       "0   MIT named No. 3 university by U.S. News for 2020  MIT News   \n",
       "1  Breakthrough Prize in Fundamental Physics awar...  MIT News   \n",
       "2             How to make a book last for millennia   MIT News   \n",
       "3                        Taking the next giant leaps  MIT News   \n",
       "4           Cleaning up hydrogen peroxide production  MIT News   \n",
       "\n",
       "                                                Text Time  \\\n",
       "0    For a second year in a row, U.S. News and Wo...    -   \n",
       "1    The Event Horizon Telescope (EHT) Collaborat...    -   \n",
       "2    First discovered in 1947 by Bedouin shepherd...    -   \n",
       "3    In July, the world celebrated the 50th anniv...    -   \n",
       "4    The most common process for making hydrogen ...    -   \n",
       "\n",
       "                                                 URL  Length  \n",
       "0  http://news.mit.edu/2019/mit-named-no-3-univer...    2116  \n",
       "1  http://news.mit.edu/2019/breakthrough-prize-ph...    5089  \n",
       "2  http://news.mit.edu/2019/temple-scroll-ancient...    7820  \n",
       "3  http://news.mit.edu/2019/taking-next-giant-lea...    7848  \n",
       "4  http://news.mit.edu/2019/solugen-hydrogen-pero...    7370  "
      ]
     },
     "execution_count": 8,
     "metadata": {},
     "output_type": "execute_result"
    }
   ],
   "source": [
    "df = df.reset_index(drop=True)\n",
    "df.drop(['Unnamed: 0'],axis=1,inplace=True)\n",
    "df.head()"
   ]
  },
  {
   "cell_type": "code",
   "execution_count": 9,
   "metadata": {},
   "outputs": [
    {
     "data": {
      "text/plain": [
       "Computer Science                  903\n",
       "ACM                               738\n",
       "Robotics                          479\n",
       "Space & Time                      473\n",
       "Nanoscience and nanotechnology    437\n",
       "Fossils & Ruins                   435\n",
       "Research                          432\n",
       "Matter & Energy                   409\n",
       "Education & Learning              397\n",
       "Business & Industry               394\n",
       "Mind & Brain                      377\n",
       "Earth & Climate                   372\n",
       "Computers & Math                  357\n",
       "Energy                            352\n",
       "Aerospace                         346\n",
       "Science & Society                 340\n",
       "Health & Medicine                 340\n",
       "Plants & Animals                  339\n",
       "Telecom                           330\n",
       "Living Well                       324\n",
       "NASA                              202\n",
       "Science & Technology              134\n",
       "Environment                       124\n",
       "Social Sciences                   124\n",
       "Humanities                        123\n",
       "Health                            118\n",
       "International                     116\n",
       "electronics                        66\n",
       "Undergraduate                      37\n",
       "Entrepreneurship                   29\n",
       "Cybersecurity                      26\n",
       "Semiconductors                      8\n",
       "Nanotech                            7\n",
       "Nasa                                6\n",
       "Name: Category, dtype: int64"
      ]
     },
     "execution_count": 9,
     "metadata": {},
     "output_type": "execute_result"
    }
   ],
   "source": [
    "df['Category'].value_counts()"
   ]
  },
  {
   "cell_type": "code",
   "execution_count": 10,
   "metadata": {},
   "outputs": [],
   "source": [
    "df['Old_Category'] = df['Category'] ## New Columns to store old category"
   ]
  },
  {
   "cell_type": "code",
   "execution_count": 11,
   "metadata": {},
   "outputs": [],
   "source": [
    "def fix_cat(x):\n",
    "    if (x=='Cybersecurity'):\n",
    "        return 'Computer Science'\n",
    "    elif (x=='Living Well' or x=='Mind & Brain' or x=='Health & Medicine'):\n",
    "        return 'Health'\n",
    "    elif(x=='Plants & Animals' or x=='Earth & Climate'):\n",
    "        return 'Environment'\n",
    "    elif(x=='Business & Industry' or x=='Education & Learning' or x=='Gadgets'):\n",
    "        return 'Society'\n",
    "    elif(x=='NASA' or x=='Aerospace' or x=='Nasa'):\n",
    "        return 'Space & Time'\n",
    "    elif(x=='Research'):\n",
    "        return 'Research'\n",
    "    elif(x=='Telecommunications' or x=='Semiconductors' or x=='electronics' or x=='Nanoscience and nanotechnology' or x=='Green Tech' or x=='Nanotech'):\n",
    "        return 'Electronics and Technology'\n",
    "    elif(x=='International' or x=='Entrepreneurship' or x=='Undergraduate' or x=='Humanities'):\n",
    "        return 'Others'\n",
    "    elif(x=='Social Sciences' or x=='Science & Technology' or x=='Science & Society'):\n",
    "        return 'Science'\n",
    "    elif(x=='Fossils & Ruins' or x=='Energy'):\n",
    "        return 'Matter & Energy'\n",
    "    \n",
    "    else:\n",
    "        return x\n"
   ]
  },
  {
   "cell_type": "code",
   "execution_count": 12,
   "metadata": {},
   "outputs": [],
   "source": [
    "df['Category'] = df['Category'].apply(fix_cat) ## Reducecd Number of Categories"
   ]
  },
  {
   "cell_type": "code",
   "execution_count": 13,
   "metadata": {},
   "outputs": [],
   "source": [
    "df=df.sort_values(by='Category')"
   ]
  },
  {
   "cell_type": "markdown",
   "metadata": {},
   "source": [
    "### Text preprocessing"
   ]
  },
  {
   "cell_type": "code",
   "execution_count": 14,
   "metadata": {},
   "outputs": [
    {
     "name": "stdout",
     "output_type": "stream",
     "text": [
      "[nltk_data] Downloading package wordnet to C:\\Users\\drago/nltk_data...\n",
      "[nltk_data]   Package wordnet is already up-to-date!\n",
      "[nltk_data] Downloading package stopwords to\n",
      "[nltk_data]     C:\\Users\\drago/nltk_data...\n",
      "[nltk_data]   Package stopwords is already up-to-date!\n",
      "[nltk_data] Downloading package punkt to C:\\Users\\drago/nltk_data...\n",
      "[nltk_data]   Package punkt is already up-to-date!\n"
     ]
    },
    {
     "data": {
      "text/plain": [
       "True"
      ]
     },
     "execution_count": 14,
     "metadata": {},
     "output_type": "execute_result"
    }
   ],
   "source": [
    "from nltk.corpus import stopwords\n",
    "from sklearn.feature_extraction.text import TfidfVectorizer\n",
    "import nltk\n",
    "import re\n",
    "import string\n",
    "from nltk.stem.wordnet import WordNetLemmatizer\n",
    "from nltk.tokenize import word_tokenize\n",
    "from num2words import num2words\n",
    "from nltk.stem.snowball import SnowballStemmer\n",
    "stemmer = SnowballStemmer(\"english\")\n",
    "\n",
    "nltk.download('wordnet')\n",
    "nltk.download('stopwords')\n",
    "nltk.download('punkt')"
   ]
  },
  {
   "cell_type": "code",
   "execution_count": 15,
   "metadata": {},
   "outputs": [],
   "source": [
    "stop = ['a', 'about', 'above', 'across', 'after', 'afterwards', 'again', 'against', 'all', 'almost', 'alone',\n",
    "             'along', 'already', 'also', 'although', 'always', 'am', 'among', 'amongst', 'amoungst', 'amount',\n",
    "             'an', 'and', 'another', 'any', 'anyhow', 'anyone', 'anything', 'anyway', 'anywhere', 'are', 'around',\n",
    "             'as', 'at', 'back', 'be', 'became', 'because', 'become', 'becomes', 'becoming', 'been', 'before',\n",
    "             'beforehand', 'behind', 'being', 'below', 'beside', 'besides', 'between', 'beyond', 'bill', 'both',\n",
    "             'bottom', 'but', 'by', 'call', 'can', 'cannot', 'cant', 'co', 'con', 'could', 'couldnt', 'cry', 'de',\n",
    "             'describe', 'detail', 'did', 'do', 'does', 'doing', 'don', 'done', 'down', 'due', 'during', 'each', 'eg',\n",
    "             'eight', 'either', 'eleven', 'else', 'elsewhere', 'empty', 'enough', 'etc', 'even', 'ever', 'every', 'everyone',\n",
    "             'everything', 'everywhere', 'except', 'few', 'fifteen', 'fify', 'fill', 'find', 'fire', 'first', 'five', 'for',\n",
    "             'former', 'formerly', 'forty', 'found', 'four', 'from', 'front', 'full', 'further', 'get', 'give', 'go', 'had',\n",
    "             'has', 'hasnt', 'have', 'having', 'he', 'hence', 'her', 'here', 'hereafter', 'hereby', 'herein', 'hereupon',\n",
    "             'hers', 'herself', 'him', 'himself', 'his', 'how', 'however', 'hundred', 'i', 'ie', 'if', 'in', 'inc', 'indeed',\n",
    "             'interest', 'into', 'is', 'it', 'its', 'itself', 'just', 'keep', 'last', 'latter', 'latterly', 'least', 'less',\n",
    "             'ltd', 'made', 'many', 'may', 'me', 'meanwhile', 'might', 'mill', 'mine', 'more', 'moreover', 'most', 'mostly',\n",
    "             'move', 'much', 'must', 'my', 'myself', 'name', 'namely', 'neither', 'never', 'nevertheless', 'next', 'nine',\n",
    "             'no', 'nobody', 'none', 'noone', 'nor', 'not', 'nothing', 'now', 'nowhere', 'of', 'off', 'often', 'on', 'once',\n",
    "             'one', 'only', 'onto', 'or', 'other', 'others', 'otherwise', 'our', 'ours', 'ourselves', 'out', 'over', 'own',\n",
    "             'part', 'per', 'perhaps', 'please', 'put', 'rather', 're', 's', 'same', 'see', 'seem', 'seemed', 'seeming',\n",
    "             'seems', 'serious', 'several', 'she', 'should', 'show', 'side', 'since', 'sincere', 'six', 'sixty', 'so', \n",
    "             'some', 'somehow', 'someone', 'something', 'sometime', 'sometimes', 'somewhere', 'still', 'such', 'system',\n",
    "             't', 'take', 'ten', 'than', 'that', 'the', 'their', 'theirs', 'them', 'themselves', 'then', 'thence', 'there',\n",
    "             'thereafter', 'thereby', 'therefore', 'therein', 'thereupon', 'these', 'they', 'thickv', 'thin', 'third', 'this',\n",
    "             'those', 'though', 'three', 'through', 'throughout', 'thru', 'thus', 'to', 'together', 'too', 'top', 'toward',\n",
    "             'towards', 'twelve', 'twenty', 'two', 'un', 'under', 'until', 'up', 'upon', 'us', 'very', 'via', 'was', 'we',\n",
    "             'well', 'were', 'what', 'whatever', 'when', 'whence', 'whenever', 'where', 'whereafter', 'whereas', 'whereby',\n",
    "             'wherein', 'whereupon', 'wherever', 'whether', 'which', 'while', 'whither', 'who', 'whoever', 'whole', 'whom',\n",
    "             'whose', 'why', 'will', 'with', 'within', 'without', 'would', 'yet', 'you', 'your', 'yours', 'yourself',\n",
    "             'yourselves',\n",
    "       'csail','faculty','honored','society','abroad','inner','cambridge','academic','school','interdisciplinary','athlete','senior','thirty','mit','team','mit researcher','laboratory','member','student','drug','approach','professor','graduate','phd',\n",
    "        'stanford','university'\n",
    "       ]"
   ]
  },
  {
   "cell_type": "code",
   "execution_count": 16,
   "metadata": {},
   "outputs": [],
   "source": [
    "stop_words = stopwords.words('english')\n",
    "stop_words.extend(stop)\n",
    "stop = set(stop_words)\n",
    "exclude = set(string.punctuation)\n",
    "lemma = WordNetLemmatizer()"
   ]
  },
  {
   "cell_type": "code",
   "execution_count": 17,
   "metadata": {},
   "outputs": [],
   "source": [
    "def remove_backslashn(data):\n",
    "    if('\\n' in data):\n",
    "        data=data.replace('\\n',' ')\n",
    "    return data\n",
    "\n",
    "def remove_apostrophe(data):\n",
    "    return np.char.replace(data, \"'\", \"\")\n",
    "def remove_punctuation(data):\n",
    "    for i in (exclude):\n",
    "        data = np.char.replace(data, i, ' ')\n",
    "        data = np.char.replace(data, \"  \", \" \")\n",
    "    data = np.char.replace(data, ',', '')\n",
    "    return data\n",
    "\n",
    "def convert_numbers(data):\n",
    "    tokens = word_tokenize(str(data))\n",
    "    new_text = \"\"\n",
    "    for w in tokens:\n",
    "        try:\n",
    "            w = num2words(int(w))\n",
    "        except:\n",
    "            a = 0\n",
    "        new_text = new_text + \" \" + w\n",
    "    new_text = np.char.replace(new_text, \"-\", \" \")\n",
    "    return new_text\n",
    "\n",
    "def clean(data):\n",
    "    stop_free = \" \".join([i for i in data.split() if i not in stop])\n",
    "    #stop_free = \" \".join([i for i in data.lower().split() if i not in stop])\n",
    "\n",
    "    normalized = \" \".join(lemma.lemmatize(word) for word in stop_free.split())\n",
    "    processed = re.sub(r\"\\d+\",\"\",normalized)\n",
    "    return processed\n"
   ]
  },
  {
   "cell_type": "code",
   "execution_count": 18,
   "metadata": {},
   "outputs": [],
   "source": [
    "df['Text'] = df['Text'].apply(remove_backslashn)\n",
    "df['Text'] = df['Text'].apply(remove_apostrophe)\n",
    "df['Text'] = df['Text'].apply(remove_punctuation)\n",
    "df['Text'] = df['Text'].apply(convert_numbers)\n",
    "df['Text'] = df['Text'].apply(clean)"
   ]
  },
  {
   "cell_type": "code",
   "execution_count": 19,
   "metadata": {},
   "outputs": [
    {
     "data": {
      "text/plain": [
       "Matter & Energy               1196\n",
       "Health                        1159\n",
       "Space & Time                  1027\n",
       "Computer Science               929\n",
       "Environment                    835\n",
       "Society                        791\n",
       "ACM                            738\n",
       "Science                        598\n",
       "Electronics and Technology     518\n",
       "Robotics                       479\n",
       "Research                       432\n",
       "Computers & Math               357\n",
       "Telecom                        330\n",
       "Others                         305\n",
       "Name: Category, dtype: int64"
      ]
     },
     "execution_count": 19,
     "metadata": {},
     "output_type": "execute_result"
    }
   ],
   "source": [
    "df['Category'].value_counts()"
   ]
  },
  {
   "cell_type": "code",
   "execution_count": 20,
   "metadata": {},
   "outputs": [],
   "source": [
    "ACM = df[df['Category']=='ACM']\n",
    "df = df[df['Category']!='ACM']\n",
    "\n",
    "Computers_and_Math = df[df['Category']=='Computers & Math']\n",
    "df = df[df['Category']!='Computers & Math']\n",
    "\n",
    "Science = df[df['Category']=='Science']\n",
    "df = df[df['Category']!='Science']\n",
    "\n",
    "Research = df[df['Category']=='Research']\n",
    "df = df[df['Category']!='Research']"
   ]
  },
  {
   "cell_type": "code",
   "execution_count": 21,
   "metadata": {},
   "outputs": [],
   "source": [
    "df_all = pd.DataFrame.copy(df) ## Backup of dataframe"
   ]
  },
  {
   "cell_type": "code",
   "execution_count": 22,
   "metadata": {},
   "outputs": [
    {
     "data": {
      "text/html": [
       "<div>\n",
       "<style scoped>\n",
       "    .dataframe tbody tr th:only-of-type {\n",
       "        vertical-align: middle;\n",
       "    }\n",
       "\n",
       "    .dataframe tbody tr th {\n",
       "        vertical-align: top;\n",
       "    }\n",
       "\n",
       "    .dataframe thead th {\n",
       "        text-align: right;\n",
       "    }\n",
       "</style>\n",
       "<table border=\"1\" class=\"dataframe\">\n",
       "  <thead>\n",
       "    <tr style=\"text-align: right;\">\n",
       "      <th></th>\n",
       "      <th>Category</th>\n",
       "      <th>Text</th>\n",
       "      <th>Old_Category</th>\n",
       "      <th>category_id</th>\n",
       "    </tr>\n",
       "  </thead>\n",
       "  <tbody>\n",
       "    <tr>\n",
       "      <th>1549</th>\n",
       "      <td>Computer Science</td>\n",
       "      <td>Comparing genome different specie — different ...</td>\n",
       "      <td>Computer Science</td>\n",
       "      <td>0</td>\n",
       "    </tr>\n",
       "    <tr>\n",
       "      <th>1548</th>\n",
       "      <td>Computer Science</td>\n",
       "      <td>Until study human interaction mobile communica...</td>\n",
       "      <td>Computer Science</td>\n",
       "      <td>0</td>\n",
       "    </tr>\n",
       "    <tr>\n",
       "      <th>1545</th>\n",
       "      <td>Computer Science</td>\n",
       "      <td>At recent International Conference Robotics Au...</td>\n",
       "      <td>Computer Science</td>\n",
       "      <td>0</td>\n",
       "    </tr>\n",
       "    <tr>\n",
       "      <th>1543</th>\n",
       "      <td>Computer Science</td>\n",
       "      <td>For year research group MIT professor computer...</td>\n",
       "      <td>Computer Science</td>\n",
       "      <td>0</td>\n",
       "    </tr>\n",
       "    <tr>\n",
       "      <th>1542</th>\n",
       "      <td>Computer Science</td>\n",
       "      <td>Network analysis — mathematical analysis relat...</td>\n",
       "      <td>Computer Science</td>\n",
       "      <td>0</td>\n",
       "    </tr>\n",
       "  </tbody>\n",
       "</table>\n",
       "</div>"
      ],
      "text/plain": [
       "              Category                                               Text  \\\n",
       "1549  Computer Science  Comparing genome different specie — different ...   \n",
       "1548  Computer Science  Until study human interaction mobile communica...   \n",
       "1545  Computer Science  At recent International Conference Robotics Au...   \n",
       "1543  Computer Science  For year research group MIT professor computer...   \n",
       "1542  Computer Science  Network analysis — mathematical analysis relat...   \n",
       "\n",
       "          Old_Category  category_id  \n",
       "1549  Computer Science            0  \n",
       "1548  Computer Science            0  \n",
       "1545  Computer Science            0  \n",
       "1543  Computer Science            0  \n",
       "1542  Computer Science            0  "
      ]
     },
     "execution_count": 22,
     "metadata": {},
     "output_type": "execute_result"
    }
   ],
   "source": [
    "from io import StringIO\n",
    "col = ['Category', 'Text','Old_Category']\n",
    "df = df[col]\n",
    "df = df[pd.notnull(df['Text'])]\n",
    "df.columns = ['Category', 'Text','Old_Category']\n",
    "df['category_id'] = df['Category'].factorize()[0]\n",
    "category_id_df = df[['Category', 'category_id']].drop_duplicates().sort_values('category_id')\n",
    "category_to_id = dict(category_id_df.values)\n",
    "id_to_category = dict(category_id_df[['category_id', 'Category']].values)\n",
    "df.head()\n"
   ]
  },
  {
   "cell_type": "code",
   "execution_count": 23,
   "metadata": {},
   "outputs": [
    {
     "data": {
      "text/plain": [
       "array(['Computer Science', 'Electronics and Technology', 'Environment',\n",
       "       'Health', 'Matter & Energy', 'Others', 'Robotics', 'Society',\n",
       "       'Space & Time', 'Telecom'], dtype=object)"
      ]
     },
     "execution_count": 23,
     "metadata": {},
     "output_type": "execute_result"
    }
   ],
   "source": [
    "my_tags = df['Category'].unique()\n",
    "my_tags"
   ]
  },
  {
   "cell_type": "code",
   "execution_count": 24,
   "metadata": {},
   "outputs": [],
   "source": [
    "from sklearn.pipeline import Pipeline\n",
    "from sklearn.feature_extraction.text import TfidfTransformer\n",
    "from sklearn.feature_extraction.text import CountVectorizer, TfidfVectorizer\n",
    "from sklearn.metrics import accuracy_score\n",
    "from nltk.tokenize import word_tokenize\n"
   ]
  },
  {
   "cell_type": "code",
   "execution_count": 25,
   "metadata": {},
   "outputs": [],
   "source": [
    "X = df['Text']\n",
    "y = df['Category']\n",
    "z = df['Old_Category']\n",
    "\n",
    "from sklearn.model_selection import train_test_split\n",
    "X_train, X_test, y_train, y_test,z_train,z_test = train_test_split(X, y,z, test_size=0.2, random_state=42)"
   ]
  },
  {
   "cell_type": "code",
   "execution_count": 26,
   "metadata": {},
   "outputs": [
    {
     "data": {
      "text/plain": [
       "Matter & Energy               1196\n",
       "Health                        1159\n",
       "Space & Time                  1027\n",
       "Computer Science               929\n",
       "Environment                    835\n",
       "Society                        791\n",
       "Electronics and Technology     518\n",
       "Robotics                       479\n",
       "Telecom                        330\n",
       "Others                         305\n",
       "Name: Category, dtype: int64"
      ]
     },
     "execution_count": 26,
     "metadata": {},
     "output_type": "execute_result"
    }
   ],
   "source": [
    "df['Category'].value_counts()"
   ]
  },
  {
   "cell_type": "code",
   "execution_count": 27,
   "metadata": {},
   "outputs": [
    {
     "name": "stdout",
     "output_type": "stream",
     "text": [
      "accuracy 0.7239101717305152\n",
      "                            precision    recall  f1-score   support\n",
      "\n",
      "          Computer Science       0.71      0.83      0.76       195\n",
      "Electronics and Technology       0.68      0.69      0.68       115\n",
      "               Environment       0.70      0.61      0.65       179\n",
      "                    Health       0.70      0.77      0.73       228\n",
      "           Matter & Energy       0.67      0.62      0.64       213\n",
      "                    Others       0.89      0.67      0.76        63\n",
      "                  Robotics       0.71      0.67      0.69        91\n",
      "                   Society       0.69      0.76      0.73       161\n",
      "              Space & Time       0.84      0.81      0.83       196\n",
      "                   Telecom       0.84      0.71      0.77        73\n",
      "\n",
      "               avg / total       0.73      0.72      0.72      1514\n",
      "\n",
      "\n",
      "Multinomial Naive Bayes \n",
      " ----- Computation time = 13.484375 seconds\n"
     ]
    }
   ],
   "source": [
    "from sklearn.naive_bayes import MultinomialNB\n",
    "\n",
    "tic = time.process_time()\n",
    "nb = Pipeline([('vect', CountVectorizer(max_df=1000,min_df=80,ngram_range=(1, 2))),\n",
    "               ('tfidf', TfidfTransformer(norm='l2')),\n",
    "               ('clf', MultinomialNB()),\n",
    "              ])\n",
    "nb.fit(X_train, y_train)\n",
    "from sklearn.metrics import classification_report\n",
    "y_pred = nb.predict(X_test)\n",
    "\n",
    "toc = time.process_time()\n",
    "\n",
    "print('accuracy %s' % accuracy_score(y_pred, y_test))\n",
    "print(classification_report(y_test, y_pred,target_names=my_tags))\n",
    "print()\n",
    "print (\"Multinomial Naive Bayes \"+ \"\\n ----- Computation time = \" + str((toc - tic)) + \" seconds\")"
   ]
  },
  {
   "cell_type": "code",
   "execution_count": 28,
   "metadata": {},
   "outputs": [
    {
     "name": "stdout",
     "output_type": "stream",
     "text": [
      "accuracy 0.7912813738441216\n",
      "                            precision    recall  f1-score   support\n",
      "\n",
      "          Computer Science       0.85      0.89      0.87       195\n",
      "Electronics and Technology       0.87      0.85      0.86       115\n",
      "               Environment       0.75      0.64      0.69       179\n",
      "                    Health       0.74      0.79      0.77       228\n",
      "           Matter & Energy       0.75      0.77      0.76       213\n",
      "                    Others       0.92      0.78      0.84        63\n",
      "                  Robotics       0.75      0.76      0.75        91\n",
      "                   Society       0.72      0.76      0.74       161\n",
      "              Space & Time       0.87      0.84      0.86       196\n",
      "                   Telecom       0.83      0.85      0.84        73\n",
      "\n",
      "               avg / total       0.79      0.79      0.79      1514\n",
      "\n",
      "\n",
      "SGDClassifier with bagging = \n",
      " ----- Computation time = 372.8125 seconds\n"
     ]
    }
   ],
   "source": [
    "from sklearn.ensemble import GradientBoostingClassifier\n",
    "from sklearn.ensemble import BaggingClassifier\n",
    "from sklearn import tree\n",
    "from sklearn.ensemble import RandomForestClassifier\n",
    "from sklearn.linear_model import SGDClassifier\n",
    "from sklearn.metrics import classification_report\n",
    "\n",
    "tic = time.process_time()\n",
    "model = Pipeline([('vect', CountVectorizer(ngram_range=(1, 2),max_features=150000)),\n",
    "               ('tfidf', TfidfTransformer(norm='l2',use_idf=True,smooth_idf=True)),\n",
    "               ('bc', BaggingClassifier(SGDClassifier(epsilon=0.05,loss='hinge', penalty='l2',alpha=1e-4, random_state=101, max_iter=6,  tol=None),n_estimators=300)),\n",
    "               ])\n",
    "model.fit(X_train, y_train)\n",
    "bagging_preds = model.predict(X_test)\n",
    "\n",
    "toc = time.process_time()\n",
    "\n",
    "print('accuracy %s' % accuracy_score(bagging_preds, y_test))\n",
    "print(classification_report(y_test, bagging_preds))\n",
    "print()\n",
    "print (\"SGDClassifier with bagging = \" +\"\\n ----- Computation time = \" + str((toc - tic)) + \" seconds\")"
   ]
  },
  {
   "cell_type": "markdown",
   "metadata": {},
   "source": [
    "#### SGDClassifier with bagging performs better but is too slow as compared to Navive Bayes Model"
   ]
  },
  {
   "cell_type": "code",
   "execution_count": 29,
   "metadata": {},
   "outputs": [],
   "source": [
    "from sklearn.externals import joblib\n",
    "# Output a pickle file for the model\n",
    "#joblib.dump(nb, 'NaiveBayes_model_5.pkl')"
   ]
  },
  {
   "cell_type": "code",
   "execution_count": 30,
   "metadata": {},
   "outputs": [
    {
     "data": {
      "text/plain": [
       "<matplotlib.figure.Figure at 0x1d8b27f04e0>"
      ]
     },
     "metadata": {},
     "output_type": "display_data"
    }
   ],
   "source": [
    "import matplotlib.pyplot as plt\n",
    "from sklearn.metrics import confusion_matrix\n",
    "import seaborn as sns\n",
    "conf_mat = confusion_matrix(y_test, y_pred)\n",
    "fig, ax = plt.subplots(figsize=(10,10))\n",
    "sns.heatmap(conf_mat, annot=True, fmt='d',\n",
    "            xticklabels=category_id_df.Category.values, yticklabels=category_id_df.Category.values)\n",
    "plt.ylabel('Actual')\n",
    "plt.xlabel('Predicted')\n",
    "plt.show()"
   ]
  },
  {
   "cell_type": "code",
   "execution_count": 31,
   "metadata": {},
   "outputs": [
    {
     "data": {
      "text/html": [
       "<div>\n",
       "<style scoped>\n",
       "    .dataframe tbody tr th:only-of-type {\n",
       "        vertical-align: middle;\n",
       "    }\n",
       "\n",
       "    .dataframe tbody tr th {\n",
       "        vertical-align: top;\n",
       "    }\n",
       "\n",
       "    .dataframe thead th {\n",
       "        text-align: right;\n",
       "    }\n",
       "</style>\n",
       "<table border=\"1\" class=\"dataframe\">\n",
       "  <thead>\n",
       "    <tr style=\"text-align: right;\">\n",
       "      <th></th>\n",
       "      <th>Text</th>\n",
       "      <th>Category</th>\n",
       "      <th>Predicted</th>\n",
       "      <th>Old_Category</th>\n",
       "    </tr>\n",
       "  </thead>\n",
       "  <tbody>\n",
       "    <tr>\n",
       "      <th>7672</th>\n",
       "      <td>Hundreds financier Wall Street analyst C suite...</td>\n",
       "      <td>Telecom</td>\n",
       "      <td>Telecom</td>\n",
       "      <td>Telecom</td>\n",
       "    </tr>\n",
       "    <tr>\n",
       "      <th>1890</th>\n",
       "      <td>Nitric oxide NO important signaling molecule l...</td>\n",
       "      <td>Electronics and Technology</td>\n",
       "      <td>Electronics and Technology</td>\n",
       "      <td>Nanoscience and nanotechnology</td>\n",
       "    </tr>\n",
       "    <tr>\n",
       "      <th>8333</th>\n",
       "      <td>Stanford researcher identified gene predict in...</td>\n",
       "      <td>Health</td>\n",
       "      <td>Health</td>\n",
       "      <td>Health</td>\n",
       "    </tr>\n",
       "    <tr>\n",
       "      <th>408</th>\n",
       "      <td>As boy growing small South Indian village Vino...</td>\n",
       "      <td>Computer Science</td>\n",
       "      <td>Computer Science</td>\n",
       "      <td>Computer Science</td>\n",
       "    </tr>\n",
       "    <tr>\n",
       "      <th>2472</th>\n",
       "      <td>They learned intriguing new detail dynamic bar...</td>\n",
       "      <td>Space &amp; Time</td>\n",
       "      <td>Space &amp; Time</td>\n",
       "      <td>Space &amp; Time</td>\n",
       "    </tr>\n",
       "  </tbody>\n",
       "</table>\n",
       "</div>"
      ],
      "text/plain": [
       "                                                   Text  \\\n",
       "7672  Hundreds financier Wall Street analyst C suite...   \n",
       "1890  Nitric oxide NO important signaling molecule l...   \n",
       "8333  Stanford researcher identified gene predict in...   \n",
       "408   As boy growing small South Indian village Vino...   \n",
       "2472  They learned intriguing new detail dynamic bar...   \n",
       "\n",
       "                        Category                   Predicted  \\\n",
       "7672                     Telecom                     Telecom   \n",
       "1890  Electronics and Technology  Electronics and Technology   \n",
       "8333                      Health                      Health   \n",
       "408             Computer Science            Computer Science   \n",
       "2472                Space & Time                Space & Time   \n",
       "\n",
       "                        Old_Category  \n",
       "7672                         Telecom  \n",
       "1890  Nanoscience and nanotechnology  \n",
       "8333                          Health  \n",
       "408                 Computer Science  \n",
       "2472                    Space & Time  "
      ]
     },
     "execution_count": 31,
     "metadata": {},
     "output_type": "execute_result"
    }
   ],
   "source": [
    "df_comparison = pd.DataFrame(X_test,columns=['Text'])\n",
    "df_comparison['Category'] = y_test\n",
    "df_comparison['Predicted'] = y_pred\n",
    "df_comparison['Old_Category'] = z_test\n",
    "df_comparison.head()"
   ]
  },
  {
   "cell_type": "code",
   "execution_count": 32,
   "metadata": {},
   "outputs": [
    {
     "data": {
      "image/png": "[encoded data removed]",
      "text/plain": [
       "<matplotlib.figure.Figure at 0x1d8ab092eb8>"
      ]
     },
     "metadata": {},
     "output_type": "display_data"
    }
   ],
   "source": [
    "fig, ax = plt.subplots(figsize=(20,8))\n",
    "sns.countplot(df_comparison['Predicted'])\n",
    "plt.show()"
   ]
  },
  {
   "cell_type": "code",
   "execution_count": 33,
   "metadata": {},
   "outputs": [],
   "source": [
    "to_predict = pd.concat([ACM,Science,Computers_and_Math,Research]) ## Predicted the new categories of articles which were having mixed data"
   ]
  },
  {
   "cell_type": "code",
   "execution_count": 34,
   "metadata": {},
   "outputs": [],
   "source": [
    "predict = nb.predict(to_predict['Text'])"
   ]
  },
  {
   "cell_type": "code",
   "execution_count": 35,
   "metadata": {},
   "outputs": [],
   "source": [
    "to_predict['Predicted'] = predict"
   ]
  },
  {
   "cell_type": "code",
   "execution_count": 36,
   "metadata": {},
   "outputs": [
    {
     "data": {
      "text/html": [
       "<div>\n",
       "<style scoped>\n",
       "    .dataframe tbody tr th:only-of-type {\n",
       "        vertical-align: middle;\n",
       "    }\n",
       "\n",
       "    .dataframe tbody tr th {\n",
       "        vertical-align: top;\n",
       "    }\n",
       "\n",
       "    .dataframe thead th {\n",
       "        text-align: right;\n",
       "    }\n",
       "</style>\n",
       "<table border=\"1\" class=\"dataframe\">\n",
       "  <thead>\n",
       "    <tr style=\"text-align: right;\">\n",
       "      <th></th>\n",
       "      <th>Category</th>\n",
       "      <th>Predicted</th>\n",
       "    </tr>\n",
       "  </thead>\n",
       "  <tbody>\n",
       "    <tr>\n",
       "      <th>9693</th>\n",
       "      <td>ACM</td>\n",
       "      <td>Computer Science</td>\n",
       "    </tr>\n",
       "    <tr>\n",
       "      <th>9205</th>\n",
       "      <td>ACM</td>\n",
       "      <td>Telecom</td>\n",
       "    </tr>\n",
       "    <tr>\n",
       "      <th>9204</th>\n",
       "      <td>ACM</td>\n",
       "      <td>Computer Science</td>\n",
       "    </tr>\n",
       "    <tr>\n",
       "      <th>9203</th>\n",
       "      <td>ACM</td>\n",
       "      <td>Computer Science</td>\n",
       "    </tr>\n",
       "    <tr>\n",
       "      <th>9202</th>\n",
       "      <td>ACM</td>\n",
       "      <td>Computer Science</td>\n",
       "    </tr>\n",
       "  </tbody>\n",
       "</table>\n",
       "</div>"
      ],
      "text/plain": [
       "     Category         Predicted\n",
       "9693      ACM  Computer Science\n",
       "9205      ACM           Telecom\n",
       "9204      ACM  Computer Science\n",
       "9203      ACM  Computer Science\n",
       "9202      ACM  Computer Science"
      ]
     },
     "execution_count": 36,
     "metadata": {},
     "output_type": "execute_result"
    }
   ],
   "source": [
    "to_predict[['Category','Predicted']].head()"
   ]
  },
  {
   "cell_type": "code",
   "execution_count": 37,
   "metadata": {},
   "outputs": [
    {
     "data": {
      "image/png": "[encoded data removed]",
      "text/plain": [
       "<matplotlib.figure.Figure at 0x1d8bee901d0>"
      ]
     },
     "metadata": {},
     "output_type": "display_data"
    }
   ],
   "source": [
    "fig, ax = plt.subplots(figsize=(10,8))\n",
    "sns.countplot(to_predict['Category'],hue=to_predict['Predicted'])\n",
    "plt.show()"
   ]
  },
  {
   "cell_type": "code",
   "execution_count": 38,
   "metadata": {},
   "outputs": [],
   "source": [
    "converted = pd.DataFrame.copy(to_predict)\n",
    "converted.reset_index(drop=True,inplace=True)\n",
    "converted['Category'] = converted['Predicted']\n",
    "converted = converted.drop(['Predicted'],axis=1)\n"
   ]
  },
  {
   "cell_type": "code",
   "execution_count": 39,
   "metadata": {},
   "outputs": [
    {
     "data": {
      "text/html": [
       "<div>\n",
       "<style scoped>\n",
       "    .dataframe tbody tr th:only-of-type {\n",
       "        vertical-align: middle;\n",
       "    }\n",
       "\n",
       "    .dataframe tbody tr th {\n",
       "        vertical-align: top;\n",
       "    }\n",
       "\n",
       "    .dataframe thead th {\n",
       "        text-align: right;\n",
       "    }\n",
       "</style>\n",
       "<table border=\"1\" class=\"dataframe\">\n",
       "  <thead>\n",
       "    <tr style=\"text-align: right;\">\n",
       "      <th></th>\n",
       "      <th>Category</th>\n",
       "      <th>Date</th>\n",
       "      <th>Heading</th>\n",
       "      <th>Source</th>\n",
       "      <th>Text</th>\n",
       "      <th>Time</th>\n",
       "      <th>URL</th>\n",
       "      <th>Length</th>\n",
       "      <th>Old_Category</th>\n",
       "    </tr>\n",
       "  </thead>\n",
       "  <tbody>\n",
       "    <tr>\n",
       "      <th>0</th>\n",
       "      <td>Computer Science</td>\n",
       "      <td>2018-04-23</td>\n",
       "      <td>Junior AI Researchers in Demand by Universitie...</td>\n",
       "      <td>ACM</td>\n",
       "      <td>Research software provider Element AI Canada a...</td>\n",
       "      <td>-</td>\n",
       "      <td>https://www.nature.com/articles/d41586-019-012...</td>\n",
       "      <td>828</td>\n",
       "      <td>ACM</td>\n",
       "    </tr>\n",
       "    <tr>\n",
       "      <th>1</th>\n",
       "      <td>Telecom</td>\n",
       "      <td>2019-05-02</td>\n",
       "      <td>Design Flaws Create Security Vulnerabilities f...</td>\n",
       "      <td>ACM</td>\n",
       "      <td>Researchers North Carolina State University NC...</td>\n",
       "      <td>-</td>\n",
       "      <td>https://news.ncsu.edu/2019/05/design-flaws-sma...</td>\n",
       "      <td>717</td>\n",
       "      <td>ACM</td>\n",
       "    </tr>\n",
       "    <tr>\n",
       "      <th>2</th>\n",
       "      <td>Computer Science</td>\n",
       "      <td>2019-05-02</td>\n",
       "      <td>Unhackable: New Chip Stops Attacks Before They...</td>\n",
       "      <td>ACM</td>\n",
       "      <td>University Michigan U M researcher designed ne...</td>\n",
       "      <td>-</td>\n",
       "      <td>https://news.umich.edu/unhackable-new-chip-sto...</td>\n",
       "      <td>812</td>\n",
       "      <td>ACM</td>\n",
       "    </tr>\n",
       "    <tr>\n",
       "      <th>3</th>\n",
       "      <td>Computer Science</td>\n",
       "      <td>2019-05-02</td>\n",
       "      <td>Toyota to Invest $100 Million in Self-Driving,...</td>\n",
       "      <td>ACM</td>\n",
       "      <td>Toyota established million venture fund autono...</td>\n",
       "      <td>-</td>\n",
       "      <td>https://www.cnbc.com/2019/05/02/toyota-to-inve...</td>\n",
       "      <td>745</td>\n",
       "      <td>ACM</td>\n",
       "    </tr>\n",
       "    <tr>\n",
       "      <th>4</th>\n",
       "      <td>Computer Science</td>\n",
       "      <td>2019-05-02</td>\n",
       "      <td>Distracted by Tech While Driving? The Answer M...</td>\n",
       "      <td>ACM</td>\n",
       "      <td>Advanced driver assistance technology help pre...</td>\n",
       "      <td>-</td>\n",
       "      <td>https://www.nytimes.com/2019/05/02/business/di...</td>\n",
       "      <td>966</td>\n",
       "      <td>ACM</td>\n",
       "    </tr>\n",
       "  </tbody>\n",
       "</table>\n",
       "</div>"
      ],
      "text/plain": [
       "           Category        Date  \\\n",
       "0  Computer Science  2018-04-23   \n",
       "1           Telecom  2019-05-02   \n",
       "2  Computer Science  2019-05-02   \n",
       "3  Computer Science  2019-05-02   \n",
       "4  Computer Science  2019-05-02   \n",
       "\n",
       "                                             Heading Source  \\\n",
       "0  Junior AI Researchers in Demand by Universitie...    ACM   \n",
       "1  Design Flaws Create Security Vulnerabilities f...    ACM   \n",
       "2  Unhackable: New Chip Stops Attacks Before They...    ACM   \n",
       "3  Toyota to Invest $100 Million in Self-Driving,...    ACM   \n",
       "4  Distracted by Tech While Driving? The Answer M...    ACM   \n",
       "\n",
       "                                                Text Time  \\\n",
       "0  Research software provider Element AI Canada a...    -   \n",
       "1  Researchers North Carolina State University NC...    -   \n",
       "2  University Michigan U M researcher designed ne...    -   \n",
       "3  Toyota established million venture fund autono...    -   \n",
       "4  Advanced driver assistance technology help pre...    -   \n",
       "\n",
       "                                                 URL  Length Old_Category  \n",
       "0  https://www.nature.com/articles/d41586-019-012...     828          ACM  \n",
       "1  https://news.ncsu.edu/2019/05/design-flaws-sma...     717          ACM  \n",
       "2  https://news.umich.edu/unhackable-new-chip-sto...     812          ACM  \n",
       "3  https://www.cnbc.com/2019/05/02/toyota-to-inve...     745          ACM  \n",
       "4  https://www.nytimes.com/2019/05/02/business/di...     966          ACM  "
      ]
     },
     "execution_count": 39,
     "metadata": {},
     "output_type": "execute_result"
    }
   ],
   "source": [
    "converted.head()"
   ]
  },
  {
   "cell_type": "code",
   "execution_count": 40,
   "metadata": {},
   "outputs": [],
   "source": [
    "df_all = pd.concat([df_all,converted]) ## Merging Both the dataframes old and new"
   ]
  },
  {
   "cell_type": "markdown",
   "metadata": {},
   "source": [
    "### After combining remaining categories final data frame to be analysed "
   ]
  },
  {
   "cell_type": "code",
   "execution_count": 41,
   "metadata": {},
   "outputs": [
    {
     "data": {
      "text/plain": [
       "Computer Science              1595\n",
       "Health                        1515\n",
       "Matter & Energy               1413\n",
       "Space & Time                  1139\n",
       "Environment                   1064\n",
       "Society                       1038\n",
       "Electronics and Technology     667\n",
       "Robotics                       569\n",
       "Telecom                        347\n",
       "Others                         347\n",
       "Name: Category, dtype: int64"
      ]
     },
     "execution_count": 41,
     "metadata": {},
     "output_type": "execute_result"
    }
   ],
   "source": [
    "df_all['Category'].value_counts()"
   ]
  },
  {
   "cell_type": "code",
   "execution_count": 42,
   "metadata": {},
   "outputs": [],
   "source": [
    "df_all['Text'] = df_all['Text'].apply(remove_apostrophe)\n",
    "df_all['Text'] = df_all['Text'].apply(remove_punctuation)\n",
    "df_all['Text'] = df_all['Text'].apply(convert_numbers)\n",
    "df_all['Text'] = df_all['Text'].apply(clean)"
   ]
  },
  {
   "cell_type": "code",
   "execution_count": 43,
   "metadata": {},
   "outputs": [
    {
     "data": {
      "text/html": [
       "<div>\n",
       "<style scoped>\n",
       "    .dataframe tbody tr th:only-of-type {\n",
       "        vertical-align: middle;\n",
       "    }\n",
       "\n",
       "    .dataframe tbody tr th {\n",
       "        vertical-align: top;\n",
       "    }\n",
       "\n",
       "    .dataframe thead th {\n",
       "        text-align: right;\n",
       "    }\n",
       "</style>\n",
       "<table border=\"1\" class=\"dataframe\">\n",
       "  <thead>\n",
       "    <tr style=\"text-align: right;\">\n",
       "      <th></th>\n",
       "      <th>Category</th>\n",
       "      <th>Date</th>\n",
       "      <th>Heading</th>\n",
       "      <th>Source</th>\n",
       "      <th>Text</th>\n",
       "      <th>Time</th>\n",
       "      <th>URL</th>\n",
       "      <th>Length</th>\n",
       "      <th>Old_Category</th>\n",
       "    </tr>\n",
       "  </thead>\n",
       "  <tbody>\n",
       "    <tr>\n",
       "      <th>1549</th>\n",
       "      <td>Computer Science</td>\n",
       "      <td>2015-06-10</td>\n",
       "      <td>Longstanding problem put to rest</td>\n",
       "      <td>MIT News</td>\n",
       "      <td>Comparing genome different specie — different ...</td>\n",
       "      <td>-</td>\n",
       "      <td>http://news.mit.edu/2015/algorithm-genome-best...</td>\n",
       "      <td>6296</td>\n",
       "      <td>Computer Science</td>\n",
       "    </tr>\n",
       "    <tr>\n",
       "      <th>1548</th>\n",
       "      <td>Computer Science</td>\n",
       "      <td>2015-06-10</td>\n",
       "      <td>Breaking down social networks in a city</td>\n",
       "      <td>MIT News</td>\n",
       "      <td>Until study human interaction mobile communica...</td>\n",
       "      <td>-</td>\n",
       "      <td>http://news.mit.edu/2015/breaking-down-social-...</td>\n",
       "      <td>5247</td>\n",
       "      <td>Computer Science</td>\n",
       "    </tr>\n",
       "    <tr>\n",
       "      <th>1545</th>\n",
       "      <td>Computer Science</td>\n",
       "      <td>2015-06-12</td>\n",
       "      <td>Centimeter-long origami robot</td>\n",
       "      <td>MIT News</td>\n",
       "      <td>At recent International Conference Robotics Au...</td>\n",
       "      <td>-</td>\n",
       "      <td>http://news.mit.edu/2015/centimeter-long-origa...</td>\n",
       "      <td>4452</td>\n",
       "      <td>Computer Science</td>\n",
       "    </tr>\n",
       "    <tr>\n",
       "      <th>1543</th>\n",
       "      <td>Computer Science</td>\n",
       "      <td>2015-06-16</td>\n",
       "      <td>Amplifying small motions in large motions</td>\n",
       "      <td>MIT News</td>\n",
       "      <td>For year research group MIT computer science e...</td>\n",
       "      <td>-</td>\n",
       "      <td>http://news.mit.edu/2015/algorithm-magnifies-m...</td>\n",
       "      <td>4119</td>\n",
       "      <td>Computer Science</td>\n",
       "    </tr>\n",
       "    <tr>\n",
       "      <th>1542</th>\n",
       "      <td>Computer Science</td>\n",
       "      <td>2015-06-16</td>\n",
       "      <td>MIT-Singapore design center creates free softw...</td>\n",
       "      <td>MIT News</td>\n",
       "      <td>Network analysis — mathematical analysis relat...</td>\n",
       "      <td>-</td>\n",
       "      <td>http://news.mit.edu/2015/mit-singapore-design-...</td>\n",
       "      <td>3257</td>\n",
       "      <td>Computer Science</td>\n",
       "    </tr>\n",
       "  </tbody>\n",
       "</table>\n",
       "</div>"
      ],
      "text/plain": [
       "              Category        Date  \\\n",
       "1549  Computer Science  2015-06-10   \n",
       "1548  Computer Science  2015-06-10   \n",
       "1545  Computer Science  2015-06-12   \n",
       "1543  Computer Science  2015-06-16   \n",
       "1542  Computer Science  2015-06-16   \n",
       "\n",
       "                                                Heading    Source  \\\n",
       "1549                   Longstanding problem put to rest  MIT News   \n",
       "1548            Breaking down social networks in a city  MIT News   \n",
       "1545                      Centimeter-long origami robot  MIT News   \n",
       "1543          Amplifying small motions in large motions  MIT News   \n",
       "1542  MIT-Singapore design center creates free softw...  MIT News   \n",
       "\n",
       "                                                   Text Time  \\\n",
       "1549  Comparing genome different specie — different ...    -   \n",
       "1548  Until study human interaction mobile communica...    -   \n",
       "1545  At recent International Conference Robotics Au...    -   \n",
       "1543  For year research group MIT computer science e...    -   \n",
       "1542  Network analysis — mathematical analysis relat...    -   \n",
       "\n",
       "                                                    URL  Length  \\\n",
       "1549  http://news.mit.edu/2015/algorithm-genome-best...    6296   \n",
       "1548  http://news.mit.edu/2015/breaking-down-social-...    5247   \n",
       "1545  http://news.mit.edu/2015/centimeter-long-origa...    4452   \n",
       "1543  http://news.mit.edu/2015/algorithm-magnifies-m...    4119   \n",
       "1542  http://news.mit.edu/2015/mit-singapore-design-...    3257   \n",
       "\n",
       "          Old_Category  \n",
       "1549  Computer Science  \n",
       "1548  Computer Science  \n",
       "1545  Computer Science  \n",
       "1543  Computer Science  \n",
       "1542  Computer Science  "
      ]
     },
     "execution_count": 43,
     "metadata": {},
     "output_type": "execute_result"
    }
   ],
   "source": [
    "df_all.head()"
   ]
  },
  {
   "cell_type": "code",
   "execution_count": 44,
   "metadata": {},
   "outputs": [],
   "source": [
    "X_all=df_all['Text']\n",
    "y_all = df_all['Category']\n",
    "from sklearn.model_selection import train_test_split\n",
    "X_train_all, X_test_all, y_train_all, y_test_all = train_test_split(X_all, y_all, test_size=0.2, random_state=42)\n",
    "\n",
    "my_tags_all = df_all['Category'].unique()"
   ]
  },
  {
   "cell_type": "code",
   "execution_count": 45,
   "metadata": {},
   "outputs": [
    {
     "name": "stdout",
     "output_type": "stream",
     "text": [
      "accuracy 0.7364620938628159\n",
      "                            precision    recall  f1-score   support\n",
      "\n",
      "          Computer Science       0.66      0.93      0.77       338\n",
      "Electronics and Technology       0.64      0.75      0.69       126\n",
      "               Environment       0.71      0.67      0.69       206\n",
      "                    Health       0.70      0.76      0.73       292\n",
      "           Matter & Energy       0.78      0.59      0.67       288\n",
      "                    Others       0.94      0.60      0.73        55\n",
      "                  Robotics       0.81      0.63      0.71       126\n",
      "                   Society       0.74      0.74      0.74       217\n",
      "              Space & Time       0.91      0.83      0.87       223\n",
      "                   Telecom       0.83      0.44      0.58        68\n",
      "\n",
      "               avg / total       0.75      0.74      0.73      1939\n",
      "\n"
     ]
    }
   ],
   "source": [
    "from sklearn.naive_bayes import MultinomialNB\n",
    "\n",
    "nb = Pipeline([('vect', CountVectorizer(max_df=1000,min_df=70,ngram_range=(1, 2))),\n",
    "               ('tfidf', TfidfTransformer(norm='l2')),\n",
    "               ('clf', MultinomialNB()),\n",
    "              ])\n",
    "nb.fit(X_train_all, y_train_all)\n",
    "from sklearn.metrics import classification_report\n",
    "y_pred_all = nb.predict(X_test_all)\n",
    "\n",
    "print('accuracy %s' % accuracy_score(y_pred_all, y_test_all))\n",
    "print(classification_report(y_test_all, y_pred_all,target_names=my_tags_all))"
   ]
  },
  {
   "cell_type": "code",
   "execution_count": 46,
   "metadata": {},
   "outputs": [
    {
     "data": {
      "image/png": "[encoded data removed]",
      "text/plain": [
       "<matplotlib.figure.Figure at 0x1d8cc4ead30>"
      ]
     },
     "metadata": {},
     "output_type": "display_data"
    }
   ],
   "source": [
    "import matplotlib.pyplot as plt\n",
    "from sklearn.metrics import confusion_matrix\n",
    "import seaborn as sns\n",
    "conf_mat = confusion_matrix(y_test, y_pred)\n",
    "fig, ax = plt.subplots(figsize=(10,10))\n",
    "sns.heatmap(conf_mat, annot=True, fmt='d',\n",
    "            xticklabels=my_tags_all, yticklabels=my_tags_all)\n",
    "plt.ylabel('Actual')\n",
    "plt.xlabel('Predicted')\n",
    "plt.show()"
   ]
  }
 ],
 "metadata": {
  "kernelspec": {
   "display_name": "Python 3",
   "language": "python",
   "name": "python3"
  },
  "language_info": {
   "codemirror_mode": {
    "name": "ipython",
    "version": 3
   },
   "file_extension": ".py",
   "mimetype": "text/x-python",
   "name": "python",
   "nbconvert_exporter": "python",
   "pygments_lexer": "ipython3",
   "version": "3.6.4"
  }
 },
 "nbformat": 4,
 "nbformat_minor": 2
}
