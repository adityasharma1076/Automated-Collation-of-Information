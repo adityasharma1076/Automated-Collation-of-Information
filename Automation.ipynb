{
 "cells": [
  {
   "cell_type": "markdown",
   "metadata": {},
   "source": [
    "### If the script is in the py format use the following\n",
    "\n",
    "\n",
    "import IEEE_Today\n",
    "\n",
    "import ACM_Today\n",
    "\n",
    "import MIT_Today\n",
    "\n",
    "import Science_Daily_Today\n",
    "\n",
    "import Stanford_Today\n",
    "\n",
    "import Combined_Today\n",
    "\n",
    "import testsmtp\n",
    "\n"
   ]
  },
  {
   "cell_type": "code",
   "execution_count": 1,
   "metadata": {},
   "outputs": [
    {
     "name": "stdout",
     "output_type": "stream",
     "text": [
      "[nltk_data] Downloading package wordnet to C:\\Users\\drago/nltk_data...\n",
      "[nltk_data]   Package wordnet is already up-to-date!\n",
      "[nltk_data] Downloading package stopwords to\n",
      "[nltk_data]     C:\\Users\\drago/nltk_data...\n",
      "[nltk_data]   Package stopwords is already up-to-date!\n",
      "[nltk_data] Downloading package punkt to C:\\Users\\drago/nltk_data...\n",
      "[nltk_data]   Package punkt is already up-to-date!\n"
     ]
    }
   ],
   "source": [
    "%run ./IEEE_Today.ipynb\n",
    "%run ./ACM_Today.ipynb\n",
    "%run ./MIT_Today.ipynb\n",
    "%run ./Science_Daily_Today.ipynb\n",
    "%run ./Stanford_Today.ipynb\n",
    "%run ./Combined_Today.ipynb \n",
    "#%run ./Simple Mail Script.ipynb #For sending mail the final result\n"
   ]
  },
  {
   "cell_type": "code",
   "execution_count": null,
   "metadata": {},
   "outputs": [],
   "source": []
  }
 ],
 "metadata": {
  "kernelspec": {
   "display_name": "Python 3",
   "language": "python",
   "name": "python3"
  },
  "language_info": {
   "codemirror_mode": {
    "name": "ipython",
    "version": 3
   },
   "file_extension": ".py",
   "mimetype": "text/x-python",
   "name": "python",
   "nbconvert_exporter": "python",
   "pygments_lexer": "ipython3",
   "version": "3.6.4"
  }
 },
 "nbformat": 4,
 "nbformat_minor": 2
}
