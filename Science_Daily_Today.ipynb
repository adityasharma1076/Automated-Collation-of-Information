{
 "cells": [
  {
   "cell_type": "code",
   "execution_count": 1,
   "metadata": {},
   "outputs": [],
   "source": [
    "import bs4 \n",
    "import requests\n",
    "import pandas as pd\n",
    "import numpy as np\n",
    "import os\n"
   ]
  },
  {
   "cell_type": "code",
   "execution_count": 2,
   "metadata": {},
   "outputs": [],
   "source": [
    "import datetime\n",
    "\n",
    "now = datetime.datetime.now()\n",
    "\n",
    "\n",
    "Today_time = now.strftime(\"%H:%M\")\n",
    "\n",
    "Today_date = now.strftime(\"%Y-%m-%d\")\n",
    "\n"
   ]
  },
  {
   "cell_type": "code",
   "execution_count": 3,
   "metadata": {},
   "outputs": [],
   "source": [
    "year = now.strftime(\"%Y\")\n",
    "\n",
    "def get_date(date):\n",
    "    if(date[-1]=='—'):\n",
    "        date=date[:-2]\n",
    "    if '.' in date:\n",
    "        spl = str.split(date,'.')\n",
    "        date = spl[0]+spl[1]\n",
    "    else:\n",
    "        spl = str.split(date)\n",
    "        date = spl[0]+' '+spl[1]+' '+spl[2]\n",
    "    spl = str.split(date,' ')\n",
    "    date = spl[0]+' '+spl[1]+' '+spl[2]\n",
    "    return date\n",
    "\n",
    "def get_url(Url):\n",
    "    prefix = 'https://www.sciencedaily.com'\n",
    "    return prefix+Url\n",
    "\n",
    "def get_cat(soup):\n",
    "    z = str.split(soup.find('div',{'id':'title'}).text)[:-1]\n",
    "    cat= ''\n",
    "    for i in z:\n",
    "        cat=cat+' '+i\n",
    "    return cat\n"
   ]
  },
  {
   "cell_type": "code",
   "execution_count": 4,
   "metadata": {},
   "outputs": [],
   "source": [
    "\n",
    "List_SD = ['https://www.sciencedaily.com/news/mind_brain/',\n",
    "          'https://www.sciencedaily.com/news/matter_energy/',\n",
    "           'https://www.sciencedaily.com/news/space_time/',\n",
    "           'https://www.sciencedaily.com/news/computers_math/',\n",
    "           'https://www.sciencedaily.com/news/earth_climate/',\n",
    "           'https://www.sciencedaily.com/news/science_society/',\n",
    "           'https://www.sciencedaily.com/news/business_industry/',\n",
    "           'https://www.sciencedaily.com/news/education_learning/']\n"
   ]
  },
  {
   "cell_type": "code",
   "execution_count": 5,
   "metadata": {},
   "outputs": [],
   "source": [
    "records = []\n",
    "for link in List_SD:\n",
    "    res = requests.get(link,headers={'User-Agent': 'Mozilla/5.0'})\n",
    "    soup = bs4.BeautifulSoup(res.text,'lxml')\n",
    "    tab_pane = soup.findAll('div',{'class':'tab-pane'})\n",
    "    category = get_cat(soup)\n",
    "    for record in tab_pane[:10]:\n",
    "        Category=category[1:]\n",
    "        Heading = record.find('h3').text\n",
    "        URL = get_url(record.find('a')['href'])\n",
    "        Date = get_date(record.find('span').text)\n",
    "        Source = 'Science Daily'\n",
    "        Time = '-'\n",
    "        records.append((Source,Heading,Category,Date,Time,URL))"
   ]
  },
  {
   "cell_type": "code",
   "execution_count": 6,
   "metadata": {},
   "outputs": [
    {
     "data": {
      "text/html": [
       "<div>\n",
       "<style scoped>\n",
       "    .dataframe tbody tr th:only-of-type {\n",
       "        vertical-align: middle;\n",
       "    }\n",
       "\n",
       "    .dataframe tbody tr th {\n",
       "        vertical-align: top;\n",
       "    }\n",
       "\n",
       "    .dataframe thead th {\n",
       "        text-align: right;\n",
       "    }\n",
       "</style>\n",
       "<table border=\"1\" class=\"dataframe\">\n",
       "  <thead>\n",
       "    <tr style=\"text-align: right;\">\n",
       "      <th></th>\n",
       "      <th>Source</th>\n",
       "      <th>Heading</th>\n",
       "      <th>Category</th>\n",
       "      <th>Date</th>\n",
       "      <th>Time</th>\n",
       "      <th>URL</th>\n",
       "    </tr>\n",
       "  </thead>\n",
       "  <tbody>\n",
       "    <tr>\n",
       "      <th>0</th>\n",
       "      <td>Science Daily</td>\n",
       "      <td>Dementia Spreads Via Connected Brain Networks</td>\n",
       "      <td>Mind &amp; Brain</td>\n",
       "      <td>2019-10-14</td>\n",
       "      <td>-</td>\n",
       "      <td>https://www.sciencedaily.com/releases/2019/10/...</td>\n",
       "    </tr>\n",
       "    <tr>\n",
       "      <th>1</th>\n",
       "      <td>Science Daily</td>\n",
       "      <td>Reading the Past Like an Open Book: Researcher...</td>\n",
       "      <td>Mind &amp; Brain</td>\n",
       "      <td>2019-10-14</td>\n",
       "      <td>-</td>\n",
       "      <td>https://www.sciencedaily.com/releases/2019/10/...</td>\n",
       "    </tr>\n",
       "    <tr>\n",
       "      <th>2</th>\n",
       "      <td>Science Daily</td>\n",
       "      <td>Another Reason to Get Cataract Surgery: It Can...</td>\n",
       "      <td>Mind &amp; Brain</td>\n",
       "      <td>2019-10-12</td>\n",
       "      <td>-</td>\n",
       "      <td>https://www.sciencedaily.com/releases/2019/10/...</td>\n",
       "    </tr>\n",
       "    <tr>\n",
       "      <th>3</th>\n",
       "      <td>Science Daily</td>\n",
       "      <td>Slower Walkers Have Older Brains and Bodies at 45</td>\n",
       "      <td>Mind &amp; Brain</td>\n",
       "      <td>2019-10-11</td>\n",
       "      <td>-</td>\n",
       "      <td>https://www.sciencedaily.com/releases/2019/10/...</td>\n",
       "    </tr>\n",
       "    <tr>\n",
       "      <th>4</th>\n",
       "      <td>Science Daily</td>\n",
       "      <td>Under Time Pressure, People Tell Us What We Wa...</td>\n",
       "      <td>Mind &amp; Brain</td>\n",
       "      <td>2019-10-11</td>\n",
       "      <td>-</td>\n",
       "      <td>https://www.sciencedaily.com/releases/2019/10/...</td>\n",
       "    </tr>\n",
       "  </tbody>\n",
       "</table>\n",
       "</div>"
      ],
      "text/plain": [
       "          Source                                            Heading  \\\n",
       "0  Science Daily      Dementia Spreads Via Connected Brain Networks   \n",
       "1  Science Daily  Reading the Past Like an Open Book: Researcher...   \n",
       "2  Science Daily  Another Reason to Get Cataract Surgery: It Can...   \n",
       "3  Science Daily  Slower Walkers Have Older Brains and Bodies at 45   \n",
       "4  Science Daily  Under Time Pressure, People Tell Us What We Wa...   \n",
       "\n",
       "       Category       Date Time  \\\n",
       "0  Mind & Brain 2019-10-14    -   \n",
       "1  Mind & Brain 2019-10-14    -   \n",
       "2  Mind & Brain 2019-10-12    -   \n",
       "3  Mind & Brain 2019-10-11    -   \n",
       "4  Mind & Brain 2019-10-11    -   \n",
       "\n",
       "                                                 URL  \n",
       "0  https://www.sciencedaily.com/releases/2019/10/...  \n",
       "1  https://www.sciencedaily.com/releases/2019/10/...  \n",
       "2  https://www.sciencedaily.com/releases/2019/10/...  \n",
       "3  https://www.sciencedaily.com/releases/2019/10/...  \n",
       "4  https://www.sciencedaily.com/releases/2019/10/...  "
      ]
     },
     "execution_count": 6,
     "metadata": {},
     "output_type": "execute_result"
    }
   ],
   "source": [
    "df=pd.DataFrame(records,columns=['Source','Heading','Category','Date','Time','URL'])\n",
    "df['Date'] = pd.to_datetime(df['Date'])\n",
    "df.head()\n"
   ]
  },
  {
   "cell_type": "code",
   "execution_count": 7,
   "metadata": {},
   "outputs": [],
   "source": [
    "science_daily = pd.read_csv('SD_Text')\n",
    "science_daily = science_daily[['Source','Heading','Category','Date','Time','URL','Text']]\n",
    "\n",
    "outname ='SD_Text'\n",
    "root = 'Backup/'\n",
    "if not os.path.exists(root):\n",
    "    os.mkdir(root)\n",
    "date_today= Today_date +'/'\n",
    "outdir=root+ date_today[:-1]\n",
    "if not os.path.exists(outdir):\n",
    "    os.mkdir(outdir)\n",
    "fullname = os.path.join(outdir, outname)\n",
    "\n",
    "science_daily.to_csv(fullname,index=False, encoding='utf-8')"
   ]
  },
  {
   "cell_type": "code",
   "execution_count": 8,
   "metadata": {},
   "outputs": [],
   "source": [
    "s1 = pd.merge(science_daily, df, how='inner', on=['Heading'])\n",
    "Headings = s1['Heading']\n",
    "\n",
    "def fix_heading(x):\n",
    "    for i in Headings:\n",
    "        if(i==x):\n",
    "            return 'nil'\n",
    "    return x\n",
    "df['Heading'] = df['Heading'].apply(fix_heading)\n",
    "df = df[df['Heading']!='nil']\n"
   ]
  },
  {
   "cell_type": "code",
   "execution_count": 9,
   "metadata": {},
   "outputs": [],
   "source": [
    "def fix_text(x):\n",
    "    res = requests.get(x,headers={'User-Agent': 'Mozilla/5.0'})\n",
    "    soup = bs4.BeautifulSoup(res.text,'lxml')\n",
    "    try:\n",
    "        txt = soup.find('div',{'id':'text'}).text\n",
    "    except:\n",
    "        return '-'\n",
    "    n = str.split(txt,'\\n')\n",
    "    a = ''\n",
    "    for i in n:\n",
    "        a=a+' '+i\n",
    "        \n",
    "    o = str.split(a,'\\xa0')\n",
    "    b = ''\n",
    "    for i in o:\n",
    "        b=b+' '+i\n",
    "    return b\n",
    "\n",
    "df['Text'] = df['URL'].apply(fix_text)\n"
   ]
  },
  {
   "cell_type": "code",
   "execution_count": 11,
   "metadata": {},
   "outputs": [],
   "source": [
    "temp = science_daily.append(df)\n",
    "temp['Date'] = pd.to_datetime(temp['Date'])\n",
    "temp = temp.sort_values(by=['Date'],ascending=False).reset_index().drop(['index'],axis=1)\n",
    "temp = temp[['Source','Heading','Category','Date','Time','URL','Text']]\n"
   ]
  },
  {
   "cell_type": "code",
   "execution_count": 13,
   "metadata": {},
   "outputs": [],
   "source": [
    "temp.to_csv('SD_Text')"
   ]
  },
  {
   "cell_type": "code",
   "execution_count": 14,
   "metadata": {},
   "outputs": [],
   "source": [
    "outname ='Science_Daily-'+str(Today_date)+'.csv'\n",
    "root = 'Uncategorized Data/'\n",
    "if not os.path.exists(root):\n",
    "    os.mkdir(root)\n",
    "date_today= Today_date +'/'\n",
    "outdir=root+ date_today[:-1]\n",
    "if not os.path.exists(outdir):\n",
    "    os.mkdir(outdir)\n",
    "fullname = os.path.join(outdir, outname)"
   ]
  },
  {
   "cell_type": "code",
   "execution_count": 15,
   "metadata": {},
   "outputs": [],
   "source": [
    "df.to_csv(fullname,index=False,encoding='utf-8')"
   ]
  },
  {
   "cell_type": "code",
   "execution_count": null,
   "metadata": {},
   "outputs": [],
   "source": []
  }
 ],
 "metadata": {
  "kernelspec": {
   "display_name": "Python 3",
   "language": "python",
   "name": "python3"
  },
  "language_info": {
   "codemirror_mode": {
    "name": "ipython",
    "version": 3
   },
   "file_extension": ".py",
   "mimetype": "text/x-python",
   "name": "python",
   "nbconvert_exporter": "python",
   "pygments_lexer": "ipython3",
   "version": "3.6.4"
  }
 },
 "nbformat": 4,
 "nbformat_minor": 2
}
