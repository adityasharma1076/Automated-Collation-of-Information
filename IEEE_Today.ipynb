{
 "cells": [
  {
   "cell_type": "code",
   "execution_count": 1,
   "metadata": {},
   "outputs": [],
   "source": [
    "import requests\n",
    "import time\n",
    "import bs4\n",
    "import pandas as pd\n",
    "import time\n",
    "import datetime\n",
    "import os\n",
    "from selenium import webdriver\n",
    "\n",
    "import warnings\n",
    "warnings.filterwarnings(\"ignore\")"
   ]
  },
  {
   "cell_type": "code",
   "execution_count": 2,
   "metadata": {},
   "outputs": [],
   "source": [
    "\n",
    "import datetime\n",
    "\n",
    "now = datetime.datetime.now()\n",
    "\n",
    "\n",
    "Today_time = now.strftime(\"%H:%M\")\n",
    "\n",
    "Today_date = now.strftime(\"%Y-%m-%d\")\n",
    "\n",
    "Year = now.strftime(\"%Y\")"
   ]
  },
  {
   "cell_type": "code",
   "execution_count": 3,
   "metadata": {},
   "outputs": [],
   "source": [
    "\n",
    "def get_date(date):\n",
    "    x = str.split(date,'\\xa0')\n",
    "    if(len(x)==3):\n",
    "        Date = x[1]+' '+x[0]+', '+x[2]\n",
    "    else:\n",
    "        Date = x[1]+' '+x[0]+', '+year\n",
    "    return Date\n",
    "def get_url(x):\n",
    "    prefix = 'https://spectrum.ieee.org'\n",
    "    url = prefix+x \n",
    "    return url\n",
    "\n",
    "def get_text(x):\n",
    "    try:\n",
    "        driver.get(x)\n",
    "        time.sleep(3)\n",
    "        html_source = driver.page_source\n",
    "        soup = bs4.BeautifulSoup(html_source, \"lxml\")\n",
    "        Text_P = soup.findAll('p')\n",
    "        Text = ''\n",
    "        for i in Text_P:\n",
    "            Text = Text+' ' +i.text\n",
    "    except:\n",
    "        Text ='-'\n",
    "    return Text\n",
    "\n",
    "def fix_text(x):\n",
    "    n = str.split(x,'\\n')\n",
    "    a = ''\n",
    "    for i in n:\n",
    "        a=a+' '+i\n",
    "\n",
    "    o = str.split(a,'\\xa0')\n",
    "    b = ''\n",
    "    for i in o:\n",
    "        b=b+' '+i\n",
    "\n",
    "\n",
    "    p = str.split(b,'\\t')\n",
    "    c = ''\n",
    "    for i in p:\n",
    "        c=c+' '+i\n",
    "\n",
    "    r = str.split(c,'\\r')\n",
    "    d = ''\n",
    "    for i in r:\n",
    "        d=d+' '+i\n",
    "\n",
    "    s = str.split(d,'\\'s')\n",
    "\n",
    "    e=''\n",
    "    for i in s:\n",
    "        e=e+' '+i\n",
    "    return e"
   ]
  },
  {
   "cell_type": "code",
   "execution_count": 4,
   "metadata": {},
   "outputs": [],
   "source": [
    "#from selenium.webdriver.chrome.options import Options\n",
    "#Options.add_argument(\"--enable-features=NetworkService\")\n",
    "options = webdriver.ChromeOptions()\n",
    "options.add_experimental_option(\"excludeSwitches\",[\"ignore-certificate-errors\"])\n",
    "options.add_argument('--enable-features=NetworkServiceWindowsSandbox')\n",
    "driver=webdriver.Chrome('chromedriver.exe')"
   ]
  },
  {
   "cell_type": "code",
   "execution_count": 5,
   "metadata": {},
   "outputs": [],
   "source": [
    "cat =['Robotics','Semiconductors','Aerospace','Energy','Telecommunications']\n"
   ]
  },
  {
   "cell_type": "code",
   "execution_count": 6,
   "metadata": {},
   "outputs": [],
   "source": [
    "driver.get('https://spectrum.ieee.org/')\n",
    "time.sleep(5)\n",
    "html_source = driver.page_source\n",
    "soup = bs4.BeautifulSoup(html_source, \"lxml\")\n",
    "Articles = soup.findAll('article')"
   ]
  },
  {
   "cell_type": "code",
   "execution_count": 7,
   "metadata": {},
   "outputs": [],
   "source": [
    "\n",
    "records = []\n",
    "for article in Articles:\n",
    "    try:\n",
    "        Category=article.find('div')['class'][0].capitalize()\n",
    "        if Category in cat :\n",
    "            Source = 'IEEE'\n",
    "            Date = article.find('time').text +', '+str(Year)\n",
    "            Heading = article.find('h3').text\n",
    "            Time='-'\n",
    "            URL = get_url(article.find('a')['href'])\n",
    "            Text= '-'\n",
    "\n",
    "            records.append((Source,Heading,Category,Date,Time,URL,Text))\n",
    "        else:\n",
    "            continue\n",
    "    except:\n",
    "        continue"
   ]
  },
  {
   "cell_type": "code",
   "execution_count": 9,
   "metadata": {},
   "outputs": [],
   "source": [
    "df=pd.DataFrame(records,columns=['Source','Heading','Category','Date','Time','URL','Text'])\n",
    "df['Date'] = pd.to_datetime(df['Date'])\n",
    "\n",
    "ieee = pd.read_csv('IEEE_Text')\n"
   ]
  },
  {
   "cell_type": "code",
   "execution_count": 10,
   "metadata": {},
   "outputs": [],
   "source": [
    "ieee= ieee[ieee['Date']!='-']"
   ]
  },
  {
   "cell_type": "code",
   "execution_count": 11,
   "metadata": {},
   "outputs": [],
   "source": [
    "ieee=ieee[ieee['Text']!='-']\n",
    "outname ='IEEE_Text'\n"
   ]
  },
  {
   "cell_type": "code",
   "execution_count": 13,
   "metadata": {},
   "outputs": [],
   "source": [
    "root = 'Backup/'\n",
    "if not os.path.exists(root):\n",
    "    os.mkdir(root)\n",
    "date_today= Today_date +'/'\n",
    "outdir=root+ date_today[:-1]\n",
    "if not os.path.exists(outdir):\n",
    "    os.mkdir(outdir)\n",
    "fullname = os.path.join(outdir, outname)\n",
    "\n",
    "ieee.to_csv(fullname,index=False, encoding='utf-8')"
   ]
  },
  {
   "cell_type": "code",
   "execution_count": 14,
   "metadata": {},
   "outputs": [
    {
     "data": {
      "text/html": [
       "<div>\n",
       "<style scoped>\n",
       "    .dataframe tbody tr th:only-of-type {\n",
       "        vertical-align: middle;\n",
       "    }\n",
       "\n",
       "    .dataframe tbody tr th {\n",
       "        vertical-align: top;\n",
       "    }\n",
       "\n",
       "    .dataframe thead th {\n",
       "        text-align: right;\n",
       "    }\n",
       "</style>\n",
       "<table border=\"1\" class=\"dataframe\">\n",
       "  <thead>\n",
       "    <tr style=\"text-align: right;\">\n",
       "      <th></th>\n",
       "      <th>Source</th>\n",
       "      <th>Heading</th>\n",
       "      <th>Category</th>\n",
       "      <th>Date</th>\n",
       "      <th>Time</th>\n",
       "      <th>URL</th>\n",
       "      <th>Text</th>\n",
       "    </tr>\n",
       "  </thead>\n",
       "  <tbody>\n",
       "    <tr>\n",
       "      <th>0</th>\n",
       "      <td>IEEE</td>\n",
       "      <td>Agility Robotics Unveils Upgraded Digit Walkin...</td>\n",
       "      <td>Robotics</td>\n",
       "      <td>2019-10-14</td>\n",
       "      <td>-</td>\n",
       "      <td>https://spectrum.ieee.org/automaton/robotics/h...</td>\n",
       "      <td>-</td>\n",
       "    </tr>\n",
       "    <tr>\n",
       "      <th>1</th>\n",
       "      <td>IEEE</td>\n",
       "      <td>Wanted: A Bomb Detector as Sensitive as a Dog'...</td>\n",
       "      <td>Semiconductors</td>\n",
       "      <td>2019-10-12</td>\n",
       "      <td>-</td>\n",
       "      <td>https://spectrum.ieee.org/tech-talk/semiconduc...</td>\n",
       "      <td>-</td>\n",
       "    </tr>\n",
       "    <tr>\n",
       "      <th>2</th>\n",
       "      <td>IEEE</td>\n",
       "      <td>Video Friday: This Humanoid Robot Will Serve Y...</td>\n",
       "      <td>Robotics</td>\n",
       "      <td>2019-10-11</td>\n",
       "      <td>-</td>\n",
       "      <td>https://spectrum.ieee.org/automaton/robotics/r...</td>\n",
       "      <td>-</td>\n",
       "    </tr>\n",
       "    <tr>\n",
       "      <th>3</th>\n",
       "      <td>IEEE</td>\n",
       "      <td>Nuclear Weapons Inspection: Encryption System ...</td>\n",
       "      <td>Aerospace</td>\n",
       "      <td>2019-10-11</td>\n",
       "      <td>-</td>\n",
       "      <td>https://spectrum.ieee.org/tech-talk/aerospace/...</td>\n",
       "      <td>-</td>\n",
       "    </tr>\n",
       "    <tr>\n",
       "      <th>4</th>\n",
       "      <td>IEEE</td>\n",
       "      <td>Forget Moore’s Law—Chipmakers Are More Worried...</td>\n",
       "      <td>Semiconductors</td>\n",
       "      <td>2019-10-11</td>\n",
       "      <td>-</td>\n",
       "      <td>https://spectrum.ieee.org/view-from-the-valley...</td>\n",
       "      <td>-</td>\n",
       "    </tr>\n",
       "  </tbody>\n",
       "</table>\n",
       "</div>"
      ],
      "text/plain": [
       "  Source                                            Heading        Category  \\\n",
       "0   IEEE  Agility Robotics Unveils Upgraded Digit Walkin...        Robotics   \n",
       "1   IEEE  Wanted: A Bomb Detector as Sensitive as a Dog'...  Semiconductors   \n",
       "2   IEEE  Video Friday: This Humanoid Robot Will Serve Y...        Robotics   \n",
       "3   IEEE  Nuclear Weapons Inspection: Encryption System ...       Aerospace   \n",
       "4   IEEE  Forget Moore’s Law—Chipmakers Are More Worried...  Semiconductors   \n",
       "\n",
       "        Date Time                                                URL Text  \n",
       "0 2019-10-14    -  https://spectrum.ieee.org/automaton/robotics/h...    -  \n",
       "1 2019-10-12    -  https://spectrum.ieee.org/tech-talk/semiconduc...    -  \n",
       "2 2019-10-11    -  https://spectrum.ieee.org/automaton/robotics/r...    -  \n",
       "3 2019-10-11    -  https://spectrum.ieee.org/tech-talk/aerospace/...    -  \n",
       "4 2019-10-11    -  https://spectrum.ieee.org/view-from-the-valley...    -  "
      ]
     },
     "execution_count": 14,
     "metadata": {},
     "output_type": "execute_result"
    }
   ],
   "source": [
    "s1 = pd.merge(ieee, df, how='inner', on=['Heading'])\n",
    "Headings = s1['Heading']\n",
    "\n",
    "def fix_heading(x):\n",
    "    for i in Headings:\n",
    "        if(i==x):\n",
    "            return 'nil'\n",
    "    return x\n",
    "df['Heading'] = df['Heading'].apply(fix_heading)\n",
    "df = df[df['Heading']!='nil']\n",
    "df.head()"
   ]
  },
  {
   "cell_type": "code",
   "execution_count": 15,
   "metadata": {},
   "outputs": [],
   "source": [
    "df['Text'] = df['URL'].apply(get_text)\n",
    "df['Text'] = df['Text'].apply(fix_text)\n",
    "#for i in range (len(df)):\n",
    "    #df.iloc[i]['Text'] = get_text(df.iloc[i]['URL'])\n",
    "    #df.iloc[i]['Text']='-'\n",
    "ieee.sort_values(by='Date')\n",
    "\n",
    "temp = ieee.append(df)\n",
    "temp['Date'] = pd.to_datetime(temp['Date'])\n",
    "temp = temp.sort_values(by=['Date'],ascending=False).reset_index().drop(['index'],axis=1)\n",
    "temp.drop(['Unnamed: 0'],axis=1,inplace=True)"
   ]
  },
  {
   "cell_type": "code",
   "execution_count": 16,
   "metadata": {},
   "outputs": [],
   "source": [
    "temp.to_csv('IEEE_Text')\n"
   ]
  },
  {
   "cell_type": "code",
   "execution_count": 17,
   "metadata": {},
   "outputs": [],
   "source": [
    "outname ='IEEE-'+str(Today_date)+'.csv'\n",
    "root = 'Uncategorized Data/'\n",
    "if not os.path.exists(root):\n",
    "    os.mkdir(root)\n",
    "date_today= Today_date +'/'\n",
    "outdir=root+ date_today[:-1]\n",
    "if not os.path.exists(outdir):\n",
    "    os.mkdir(outdir)\n",
    "fullname = os.path.join(outdir, outname)\n",
    "\n",
    "df.to_csv(fullname,index=False,encoding='utf-8')\n"
   ]
  },
  {
   "cell_type": "code",
   "execution_count": 18,
   "metadata": {},
   "outputs": [],
   "source": [
    "driver.close()"
   ]
  },
  {
   "cell_type": "code",
   "execution_count": null,
   "metadata": {},
   "outputs": [],
   "source": []
  }
 ],
 "metadata": {
  "kernelspec": {
   "display_name": "Python 3",
   "language": "python",
   "name": "python3"
  },
  "language_info": {
   "codemirror_mode": {
    "name": "ipython",
    "version": 3
   },
   "file_extension": ".py",
   "mimetype": "text/x-python",
   "name": "python",
   "nbconvert_exporter": "python",
   "pygments_lexer": "ipython3",
   "version": "3.6.4"
  }
 },
 "nbformat": 4,
 "nbformat_minor": 2
}
